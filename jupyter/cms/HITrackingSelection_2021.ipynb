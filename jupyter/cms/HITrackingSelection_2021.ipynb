{
 "cells": [
  {
   "cell_type": "markdown",
   "metadata": {},
   "source": [
    "## CMS document\n",
    "\n",
    "### HIN 2021 tracking selection development\n",
    "The version of cmssw can be checked by\n",
    "```bash\n",
    "scram list\n",
    "```\n",
    "Setupt the workspace\n",
    "```bash\n",
    "scram p -n hi2021_runPrep_11_1_0_pre6 CMSSW_11_1_0_pre6\n",
    "cd hi2021_runPrep_11_1_0_pre6/src\n",
    "cmsenv\n",
    "scram b -j4\n",
    "```\n",
    "\n",
    "Generating the QCD Pt 80-120 (`QCD_Pt_80_120_14TeV_TuneCP5_cfi`) embedding samples (using the Hydjet 2018 samples for embedding):\n",
    "```bash\n",
    "cmsDriver.py QCD_Pt_80_120_14TeV_TuneCP5_cfi --mc --pileup HiMixGEN --pileup_input \"dbs:/MinBias_Hydjet_Drum5F_2018_5p02TeV/HINPbPbAutumn18GS-103X_upgrade2018_realistic_HI_v11-v1/GEN-SIM\" --eventcontent RAWSIM --datatier GEN-SIM --conditions auto:phase1_2021_realistic_hi --beamspot Run3RoundOptics25ns13TeVLowSigmaZ --step GEN,SIM --scenario HeavyIons --geometry DB:Extended --era Run3_pp_on_PbPb -n 2\n",
    "```\n",
    "\n",
    "The RECO configure can be generated as\n",
    "```bash\n",
    "cmsDriver.py step2  --conditions auto:phase1_2021_realistic_hi -s DIGI:pdigi_hi,L1,DIGI2RAW,HLT:@fake2 --datatier GEN-SIM-DIGI-RAW-HLTDEBUG --pileup HiMixNoPU -n 2 --era Run3_pp_on_PbPb --eventcontent FEVTDEBUGHLT\n",
    "\n",
    "cmsDriver.py step3  --runUnscheduled  --conditions auto:phase1_2021_realistic_hi -s RAW2DIGI,L1Reco,RECO --datatier GEN-SIM-RECODEBUG -n 2 --era Run3_pp_on_PbPb --eventcontent RECODEBUG\n",
    "```\n",
    "\n",
    "10k samples generated:\n",
    "\n",
    "|data tier| PD name|\n",
    "|---|---|\n",
    "|GEN | `/EmbeddedSample/wangx-QCD_Pt_80_120_14TeV_TuneCP5_HydjetDrum5F_cfi_GEN_SIM_PU-a4ca08ff5e24afc0162fa93d655950e3/USER`|\n",
    "|GEN-SIM| `/EmbeddedSample/wangx-step2_QCD_Pt_80_120_14TeV_TuneCP5_HydjetDrum5F_cfi_GEN_SIM_PU-fbc7b817a14d7a9c201e9f4e191e9f21/USER`|\n",
    "|RECODEBUG|`/EmbeddedSample/wangx-step3_recodebug_QCD_Pt_80_120_14TeV_TuneCP5_HydjetDrum5F_cfi_GEN_SIM_PU-78ab5ff56755c39b0248e27a55349eda/USER`|"
   ]
  },
  {
   "cell_type": "markdown",
   "metadata": {},
   "source": [
    "## Tracking selection\n",
    "Setup the tracking code in the subdirectory under the `$CMSSW_BASE/src/`\n",
    "```bash\n",
    "git clone git@github.com:Taburis/MVATracking.git\n",
    "```\n",
    "Preparing the reconstruction cfg by\n",
    "```bash\n",
    "cmsDriver.py step3  --runUnscheduled  --conditions auto:phase1_2021_realistic_hi -s RAW2DIGI,L1Reco,RECO --datatier GEN-SIM-RECO -n 2 --era Run3_pp_on_PbPb --eventcontent FEVTDEBUGHLT\n",
    "```\n",
    "\n",
    "The `TMVA` are not supported by the GForest anymore, some modification are needed."
   ]
  },
  {
   "cell_type": "code",
   "execution_count": null,
   "metadata": {},
   "outputs": [],
   "source": []
  }
 ],
 "metadata": {
  "kernelspec": {
   "display_name": "Python 3",
   "language": "python",
   "name": "python3"
  },
  "language_info": {
   "codemirror_mode": {
    "name": "ipython",
    "version": 3
   },
   "file_extension": ".py",
   "mimetype": "text/x-python",
   "name": "python",
   "nbconvert_exporter": "python",
   "pygments_lexer": "ipython3",
   "version": "3.8.2"
  }
 },
 "nbformat": 4,
 "nbformat_minor": 4
}
