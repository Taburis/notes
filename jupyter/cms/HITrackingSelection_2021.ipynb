{
 "cells": [
  {
   "cell_type": "markdown",
   "metadata": {},
   "source": [
    "## CMS document\n",
    "\n",
    "### HIN 2021 tracking selection development\n",
    "The version of cmssw can be checked by\n",
    "```bash\n",
    "scram list\n",
    "```\n",
    "Setupt the workspace\n",
    "```bash\n",
    "scram p -n hi2021_runPrep_11_1_0_pre6 CMSSW_11_1_0_pre6\n",
    "cd hi2021_runPrep_11_1_0_pre6/src\n",
    "cmsenv\n",
    "scram b -j4\n",
    "```\n",
    "\n",
    "### Generating the sample\n",
    "\n",
    "We first need to generate the minbias samples as background and embed the QCD jet sample into it.\n",
    "\n",
    "For generating the minbias sample, the command is\n",
    "```bash\n",
    "cmsDriver.py Hydjet_Quenched_B12_5020GeV_cfi  --conditions auto:phase1_2021_realistic_hi -n 1 --era Run3_pp_on_PbPb --eventcontent RAWSIM --relval 2000,1 -s GEN,SIM --datatier GEN-SIM --beamspot RealisticPbPbCollision2018 --geometry DB:Extended\n",
    "```\n",
    "where the beamspot used here is \"RealisticPbPbCollision2018\" and need to turn the `cFlag` on after generated the cfg file manually (otherwise, it will only generate the sample with b in the range specified in cfg).\n",
    "\n",
    "To generate the QCD jets with Pthat 80-120 (`QCD_Pt_80_120_14TeV_TuneCP5_cfi`) embedding samples (using the selfgenerated sample for embedding):\n",
    "```bash\n",
    "cmsDriver.py QCD_Pt_80_120_14TeV_TuneCP5_cfi --mc --pileup HiMixGEN --pileup_input \"dbs:/MinBias/wangx-minBias_HydjetDrum5F_GEN_SIM_PU-43543e2e0073ceac48fd2078951ca5eb/USER instance=prod/phys03\" --eventcontent RAWSIM --datatier GEN-SIM --conditions auto:phase1_2021_realistic_hi --beamspot RealisticPbPbCollision2018 --step GEN,SIM --scenario HeavyIons --geometry DB:Extended --era Run3_pp_on_PbPb -n 2\n",
    "```\n",
    "\n",
    "The RECO configure can be generated as\n",
    "```bash\n",
    "cmsDriver.py step2  --conditions auto:phase1_2021_realistic_hi -s DIGI:pdigi_hi,L1,DIGI2RAW,HLT:@fake2 --datatier GEN-SIM-DIGI-RAW-HLTDEBUG --pileup HiMixNoPU -n 2 --era Run3_pp_on_PbPb --eventcontent FEVTDEBUGHLT\n",
    "\n",
    "cmsDriver.py step3  --runUnscheduled  --conditions auto:phase1_2021_realistic_hi -s RAW2DIGI,L1Reco,RECO --datatier GEN-SIM-RECODEBUG -n 2 --era Run3_pp_on_PbPb --eventcontent RECODEBUG\n",
    "```\n",
    "\n",
    "\n",
    "|type|stats|data tier| PD name|\n",
    "|---|---|---|---|\n",
    "|minbias|10k|GEN | `/MinBias/wangx-minBias_HydjetDrum5F_GEN_SIM_PU-43543e2e0073ceac48fd2078951ca5eb/USER instance=prod/phys03`|\n",
    "|QCD jet [80,120]|10k|GEN|`/EmbeddedSample/wangx-QCD_Pt_80_120_embedding_HydjetDrum5F_GEN_SIM_PU-cc5c0c339fd6ec7446e66c9541a0548e/USER instance=prod/phys03`|"
   ]
  },
  {
   "cell_type": "markdown",
   "metadata": {},
   "source": [
    "## Tracking selection\n",
    "Setup the tracking code in the subdirectory under the `$CMSSW_BASE/src/`\n",
    "```bash\n",
    "git clone git@github.com:Taburis/MVATracking.git\n",
    "```\n",
    "Preparing the reconstruction cfg by\n",
    "```bash\n",
    "cmsDriver.py step3  --runUnscheduled  --conditions auto:phase1_2021_realistic_hi -s RAW2DIGI,L1Reco,RECO --datatier GEN-SIM-RECO -n 2 --era Run3_pp_on_PbPb --eventcontent FEVTDEBUGHLT\n",
    "```\n",
    "\n",
    "The `TMVA` are not supported by the GForest anymore, some modification are needed."
   ]
  },
  {
   "cell_type": "code",
   "execution_count": null,
   "metadata": {},
   "outputs": [],
   "source": []
  }
 ],
 "metadata": {
  "kernelspec": {
   "display_name": "Python 3",
   "language": "python",
   "name": "python3"
  },
  "language_info": {
   "codemirror_mode": {
    "name": "ipython",
    "version": 3
   },
   "file_extension": ".py",
   "mimetype": "text/x-python",
   "name": "python",
   "nbconvert_exporter": "python",
   "pygments_lexer": "ipython3",
   "version": "3.8.2"
  }
 },
 "nbformat": 4,
 "nbformat_minor": 4
}
